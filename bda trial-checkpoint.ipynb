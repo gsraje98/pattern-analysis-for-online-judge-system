{
 "cells": [
  {
   "cell_type": "code",
   "execution_count": 40,
   "metadata": {},
   "outputs": [],
   "source": [
    "import pyspark"
   ]
  },
  {
   "cell_type": "code",
   "execution_count": 41,
   "metadata": {},
   "outputs": [
    {
     "name": "stdout",
     "output_type": "stream",
     "text": [
      "['problem_data.csv', 'train_submissions.csv', 'user_data.csv']\n"
     ]
    }
   ],
   "source": [
    "\n",
    "\n",
    "import numpy as np \n",
    "import pandas as pd \n",
    "\n",
    "\n",
    "import os\n",
    "print(os.listdir(\"input\"))\n"
   ]
  },
  {
   "cell_type": "code",
   "execution_count": 42,
   "metadata": {},
   "outputs": [],
   "source": [
    "import findspark\n",
    "findspark.init('C:/Users/spark/spark-2.4.4-bin-hadoop2.7')\n",
    "\n",
    "from pyspark.sql import SparkSession\n",
    "\n",
    "spark = SparkSession.builder.appName('Online_judge').getOrCreate()"
   ]
  },
  {
   "cell_type": "code",
   "execution_count": 43,
   "metadata": {},
   "outputs": [],
   "source": [
    "problems_df = spark.read.csv('problem_data.csv', inferSchema=True, header=True)\n",
    "users_df = spark.read.csv('user_data.csv', inferSchema=True, header=True)\n",
    "train_df = spark.read.csv('train_submissions.csv', inferSchema=True, header=True)\n",
    "test_df = spark.read.csv('test_submissions_NeDLEvX.csv', inferSchema=True, header=True)\n"
   ]
  },
  {
   "cell_type": "code",
   "execution_count": 44,
   "metadata": {},
   "outputs": [
    {
     "data": {
      "text/plain": [
       "['problem_id', 'level_type', 'points', 'tags']"
      ]
     },
     "execution_count": 44,
     "metadata": {},
     "output_type": "execute_result"
    }
   ],
   "source": [
    "problems_df.columns"
   ]
  },
  {
   "cell_type": "code",
   "execution_count": 45,
   "metadata": {},
   "outputs": [
    {
     "data": {
      "text/plain": [
       "['ID', 'user_id', 'problem_id']"
      ]
     },
     "execution_count": 45,
     "metadata": {},
     "output_type": "execute_result"
    }
   ],
   "source": [
    "test_df.columns"
   ]
  },
  {
   "cell_type": "code",
   "execution_count": 46,
   "metadata": {},
   "outputs": [
    {
     "data": {
      "text/plain": [
       "['user_id', 'problem_id', 'attempts_range']"
      ]
     },
     "execution_count": 46,
     "metadata": {},
     "output_type": "execute_result"
    }
   ],
   "source": [
    "train_df.columns"
   ]
  },
  {
   "cell_type": "code",
   "execution_count": 47,
   "metadata": {},
   "outputs": [
    {
     "data": {
      "text/plain": [
       "['user_id',\n",
       " 'submission_count',\n",
       " 'problem_solved',\n",
       " 'contribution',\n",
       " 'country',\n",
       " 'follower_count',\n",
       " 'last_online_time_seconds',\n",
       " 'max_rating',\n",
       " 'rating',\n",
       " 'rank',\n",
       " 'registration_time_seconds']"
      ]
     },
     "execution_count": 47,
     "metadata": {},
     "output_type": "execute_result"
    }
   ],
   "source": [
    "users_df.columns"
   ]
  },
  {
   "cell_type": "code",
   "execution_count": 48,
   "metadata": {},
   "outputs": [
    {
     "name": "stdout",
     "output_type": "stream",
     "text": [
      "root\n",
      " |-- problem_id: string (nullable = true)\n",
      " |-- level_type: string (nullable = true)\n",
      " |-- points: integer (nullable = true)\n",
      " |-- tags: string (nullable = true)\n",
      "\n"
     ]
    }
   ],
   "source": [
    "problems_df.printSchema()"
   ]
  },
  {
   "cell_type": "code",
   "execution_count": 49,
   "metadata": {},
   "outputs": [
    {
     "name": "stdout",
     "output_type": "stream",
     "text": [
      "root\n",
      " |-- ID: string (nullable = true)\n",
      " |-- user_id: string (nullable = true)\n",
      " |-- problem_id: string (nullable = true)\n",
      "\n"
     ]
    }
   ],
   "source": [
    "test_df.printSchema()"
   ]
  },
  {
   "cell_type": "code",
   "execution_count": 50,
   "metadata": {},
   "outputs": [
    {
     "name": "stdout",
     "output_type": "stream",
     "text": [
      "root\n",
      " |-- user_id: string (nullable = true)\n",
      " |-- problem_id: string (nullable = true)\n",
      " |-- attempts_range: integer (nullable = true)\n",
      "\n"
     ]
    }
   ],
   "source": [
    "train_df.printSchema()"
   ]
  },
  {
   "cell_type": "code",
   "execution_count": 51,
   "metadata": {},
   "outputs": [
    {
     "name": "stdout",
     "output_type": "stream",
     "text": [
      "root\n",
      " |-- user_id: string (nullable = true)\n",
      " |-- submission_count: integer (nullable = true)\n",
      " |-- problem_solved: integer (nullable = true)\n",
      " |-- contribution: integer (nullable = true)\n",
      " |-- country: string (nullable = true)\n",
      " |-- follower_count: integer (nullable = true)\n",
      " |-- last_online_time_seconds: integer (nullable = true)\n",
      " |-- max_rating: double (nullable = true)\n",
      " |-- rating: double (nullable = true)\n",
      " |-- rank: string (nullable = true)\n",
      " |-- registration_time_seconds: integer (nullable = true)\n",
      "\n"
     ]
    }
   ],
   "source": [
    "users_df.printSchema()"
   ]
  },
  {
   "cell_type": "code",
   "execution_count": 52,
   "metadata": {},
   "outputs": [
    {
     "name": "stdout",
     "output_type": "stream",
     "text": [
      "Row(problem_id='prob_3649', level_type='H', points=None, tags=None) \n",
      "\n",
      "Row(problem_id='prob_6191', level_type='A', points=None, tags=None) \n",
      "\n",
      "Row(problem_id='prob_2020', level_type='F', points=None, tags=None) \n",
      "\n",
      "Row(problem_id='prob_313', level_type='A', points=500, tags='greedy,implementation') \n",
      "\n",
      "Row(problem_id='prob_101', level_type='A', points=500, tags='constructive algorithms,greedy,math') \n",
      "\n"
     ]
    }
   ],
   "source": [
    "for line in problems_df.head(5):\n",
    "    print(line, '\\n')"
   ]
  },
  {
   "cell_type": "code",
   "execution_count": 53,
   "metadata": {},
   "outputs": [
    {
     "name": "stdout",
     "output_type": "stream",
     "text": [
      "Row(ID='user_856_prob_5822', user_id='user_856', problem_id='prob_5822') \n",
      "\n",
      "Row(ID='user_2642_prob_2334', user_id='user_2642', problem_id='prob_2334') \n",
      "\n",
      "Row(ID='user_2557_prob_2920', user_id='user_2557', problem_id='prob_2920') \n",
      "\n",
      "Row(ID='user_1572_prob_4598', user_id='user_1572', problem_id='prob_4598') \n",
      "\n",
      "Row(ID='user_295_prob_6139', user_id='user_295', problem_id='prob_6139') \n",
      "\n"
     ]
    }
   ],
   "source": [
    "for line in test_df.head(5):\n",
    "    print(line, '\\n')"
   ]
  },
  {
   "cell_type": "code",
   "execution_count": 54,
   "metadata": {},
   "outputs": [
    {
     "name": "stdout",
     "output_type": "stream",
     "text": [
      "Row(user_id='user_232', problem_id='prob_6507', attempts_range=1) \n",
      "\n",
      "Row(user_id='user_3568', problem_id='prob_2994', attempts_range=3) \n",
      "\n",
      "Row(user_id='user_1600', problem_id='prob_5071', attempts_range=1) \n",
      "\n",
      "Row(user_id='user_2256', problem_id='prob_703', attempts_range=1) \n",
      "\n",
      "Row(user_id='user_2321', problem_id='prob_356', attempts_range=1) \n",
      "\n"
     ]
    }
   ],
   "source": [
    "for line in train_df.head(5):\n",
    "    print(line, '\\n')"
   ]
  },
  {
   "cell_type": "code",
   "execution_count": 55,
   "metadata": {},
   "outputs": [
    {
     "name": "stdout",
     "output_type": "stream",
     "text": [
      "Row(user_id='user_3311', submission_count=47, problem_solved=40, contribution=0, country=None, follower_count=4, last_online_time_seconds=1504111645, max_rating=348.337, rating=330.849, rank='intermediate', registration_time_seconds=1466686436) \n",
      "\n",
      "Row(user_id='user_3028', submission_count=63, problem_solved=52, contribution=0, country='India', follower_count=17, last_online_time_seconds=1498998165, max_rating=405.677, rating=339.45, rank='intermediate', registration_time_seconds=1441893325) \n",
      "\n",
      "Row(user_id='user_2268', submission_count=226, problem_solved=203, contribution=-8, country='Egypt', follower_count=24, last_online_time_seconds=1505566052, max_rating=307.339, rating=284.404, rank='beginner', registration_time_seconds=1454267603) \n",
      "\n",
      "Row(user_id='user_480', submission_count=611, problem_solved=490, contribution=1, country='Ukraine', follower_count=94, last_online_time_seconds=1505257499, max_rating=525.803, rating=471.33, rank='advanced', registration_time_seconds=1350720417) \n",
      "\n",
      "Row(user_id='user_650', submission_count=504, problem_solved=479, contribution=12, country='Russia', follower_count=4, last_online_time_seconds=1496613433, max_rating=548.739, rating=486.525, rank='advanced', registration_time_seconds=1395560498) \n",
      "\n"
     ]
    }
   ],
   "source": [
    "for line in users_df.head(5):\n",
    "    print(line, '\\n')"
   ]
  },
  {
   "cell_type": "code",
   "execution_count": 56,
   "metadata": {},
   "outputs": [
    {
     "name": "stdout",
     "output_type": "stream",
     "text": [
      "+-------+----------+----------+------------------+------------+\n",
      "|summary|problem_id|level_type|            points|        tags|\n",
      "+-------+----------+----------+------------------+------------+\n",
      "|  count|      6544|      6411|              2627|        3060|\n",
      "|   mean|      null|      null|1452.3818043395509|        null|\n",
      "| stddev|      null|      null| 789.5424610560552|        null|\n",
      "|    min|    prob_1|         A|                -1|    *special|\n",
      "|    max|  prob_999|         N|              5000|two pointers|\n",
      "+-------+----------+----------+------------------+------------+\n",
      "\n"
     ]
    }
   ],
   "source": [
    "problems_df.describe().show()"
   ]
  },
  {
   "cell_type": "code",
   "execution_count": 57,
   "metadata": {},
   "outputs": [
    {
     "name": "stdout",
     "output_type": "stream",
     "text": [
      "+-------+-------------------+--------+----------+\n",
      "|summary|                 ID| user_id|problem_id|\n",
      "+-------+-------------------+--------+----------+\n",
      "|  count|              66555|   66555|     66555|\n",
      "|   mean|               null|    null|      null|\n",
      "| stddev|               null|    null|      null|\n",
      "|    min|user_1000_prob_1066|  user_1| prob_1000|\n",
      "|    max|    user_9_prob_875|user_999|  prob_999|\n",
      "+-------+-------------------+--------+----------+\n",
      "\n"
     ]
    }
   ],
   "source": [
    "test_df.describe().show()"
   ]
  },
  {
   "cell_type": "code",
   "execution_count": 58,
   "metadata": {},
   "outputs": [
    {
     "name": "stdout",
     "output_type": "stream",
     "text": [
      "+-------+--------+----------+------------------+\n",
      "|summary| user_id|problem_id|    attempts_range|\n",
      "+-------+--------+----------+------------------+\n",
      "|  count|  155295|    155295|            155295|\n",
      "|   mean|    null|      null|1.7550275282526804|\n",
      "| stddev|    null|      null|1.0784504235674526|\n",
      "|    min|  user_1|    prob_1|                 1|\n",
      "|    max|user_999|  prob_999|                 6|\n",
      "+-------+--------+----------+------------------+\n",
      "\n"
     ]
    }
   ],
   "source": [
    "train_df.describe().show()"
   ]
  },
  {
   "cell_type": "code",
   "execution_count": 59,
   "metadata": {},
   "outputs": [
    {
     "name": "stdout",
     "output_type": "stream",
     "text": [
      "+-------+--------+-----------------+------------------+------------------+---------+------------------+------------------------+------------------+------------------+------------+-------------------------+\n",
      "|summary| user_id| submission_count|    problem_solved|      contribution|  country|    follower_count|last_online_time_seconds|        max_rating|            rating|        rank|registration_time_seconds|\n",
      "+-------+--------+-----------------+------------------+------------------+---------+------------------+------------------------+------------------+------------------+------------+-------------------------+\n",
      "|  count|    3571|             3571|              3571|              3571|     2418|              3571|                    3571|              3571|              3571|        3571|                     3571|\n",
      "|   mean|    null|299.4810977317278|267.89442733127976| 4.102492299075889|     null|  46.6905628675441|    1.5026803096975636E9|390.37439204704464|350.16557798935776|        null|     1.4349609216802015E9|\n",
      "| stddev|    null|366.1028867165791| 344.1396877804583|16.552255660669736|     null|211.49463778752522|       5114849.930050512| 92.42878824080228|106.59250292047133|        null|      4.750757571918919E7|\n",
      "|    min|  user_1|                1|                 0|               -64|Argentina|                 0|              1484237387|           303.899|               0.0|    advanced|               1264761387|\n",
      "|    max|user_999|             4570|              4476|               171|  Vietnam|             10575|              1505595074|           983.085|           911.124|intermediate|               1484236125|\n",
      "+-------+--------+-----------------+------------------+------------------+---------+------------------+------------------------+------------------+------------------+------------+-------------------------+\n",
      "\n"
     ]
    }
   ],
   "source": [
    "users_df.describe().show()"
   ]
  },
  {
   "cell_type": "code",
   "execution_count": 135,
   "metadata": {},
   "outputs": [
    {
     "name": "stdout",
     "output_type": "stream",
     "text": [
      "Training Data Count:  155295\n",
      "Null values in training set:\n",
      " user_id           0\n",
      "problem_id        0\n",
      "attempts_range    0\n",
      "dtype: int64\n",
      "Test Data Count:  66555\n",
      "Null values in test set:\n",
      " ID            0\n",
      "user_id       0\n",
      "problem_id    0\n",
      "dtype: int64\n",
      "Number of problems:  6544\n",
      "Null values in problems:\n",
      " problem_id       0\n",
      "level_type     133\n",
      "points        3917\n",
      "tags          3484\n",
      "dtype: int64\n",
      "Number of users:  3571\n",
      "Null values in user data:\n",
      " user_id                         0\n",
      "submission_count                0\n",
      "problem_solved                  0\n",
      "contribution                    0\n",
      "country                      1153\n",
      "follower_count                  0\n",
      "last_online_time_seconds        0\n",
      "max_rating                      0\n",
      "rating                          0\n",
      "rank                            0\n",
      "registration_time_seconds       0\n",
      "dtype: int64\n",
      "  problem_id level_type  points                                 tags\n",
      "0  prob_3649          H     NaN                                  NaN\n",
      "1  prob_6191          A     NaN                                  NaN\n",
      "2  prob_2020          F     NaN                                  NaN\n",
      "3   prob_313          A   500.0                greedy,implementation\n",
      "4   prob_101          A   500.0  constructive algorithms,greedy,math\n",
      "     user_id  submission_count  problem_solved  contribution  country  \\\n",
      "0  user_3311                47              40             0      NaN   \n",
      "1  user_3028                63              52             0    India   \n",
      "2  user_2268               226             203            -8    Egypt   \n",
      "3   user_480               611             490             1  Ukraine   \n",
      "4   user_650               504             479            12   Russia   \n",
      "\n",
      "   follower_count  last_online_time_seconds  max_rating   rating  \\\n",
      "0               4                1504111645     348.337  330.849   \n",
      "1              17                1498998165     405.677  339.450   \n",
      "2              24                1505566052     307.339  284.404   \n",
      "3              94                1505257499     525.803  471.330   \n",
      "4               4                1496613433     548.739  486.525   \n",
      "\n",
      "           rank  registration_time_seconds  \n",
      "0  intermediate                 1466686436  \n",
      "1  intermediate                 1441893325  \n",
      "2      beginner                 1454267603  \n",
      "3      advanced                 1350720417  \n",
      "4      advanced                 1395560498  \n",
      "     user_id problem_id  attempts_range\n",
      "0   user_232  prob_6507               1\n",
      "1  user_3568  prob_2994               3\n",
      "2  user_1600  prob_5071               1\n",
      "3  user_2256   prob_703               1\n",
      "4  user_2321   prob_356               1\n",
      "                    ID    user_id problem_id\n",
      "0   user_856_prob_5822   user_856  prob_5822\n",
      "1  user_2642_prob_2334  user_2642  prob_2334\n",
      "2  user_2557_prob_2920  user_2557  prob_2920\n",
      "3  user_1572_prob_4598  user_1572  prob_4598\n",
      "4   user_295_prob_6139   user_295  prob_6139\n",
      "Training data:  155295\n",
      "Users:  3529\n",
      "Problems:  5776\n",
      "Test data:  66555\n",
      "Users:  3501\n",
      "Problems:  4716\n"
     ]
    }
   ],
   "source": [
    "import numpy as np\n",
    "import pandas as pd\n",
    "\n",
    "from matplotlib import pyplot as plot\n",
    "from matplotlib import rcParams\n",
    "rcParams['font.family'] = 'serif'\n",
    "from sklearn.cluster import KMeans\n",
    "from sklearn.model_selection import train_test_split\n",
    "from sklearn.preprocessing import StandardScaler\n",
    "from sklearn.ensemble import RandomForestClassifier\n",
    "from sklearn.metrics import confusion_matrix\n",
    "import seaborn as sns\n",
    "import xgboost as xgb\n",
    "from sklearn.metrics import mean_squared_error\n",
    "from sklearn.metrics import accuracy_score\n",
    "\n",
    "problemsfile = 'problem_data.csv'\n",
    "userfile = 'user_data.csv'\n",
    "trainfile = 'train_submissions.csv'\n",
    "testfile = 'test_submissions_NeDLEvX.csv'\n",
    "\n",
    "problems_df = pd.read_csv(problemsfile)\n",
    "users_df = pd.read_csv(userfile)\n",
    "train_df = pd.read_csv( trainfile )\n",
    "test_df = pd.read_csv( testfile )\n",
    "\n",
    "print('Training Data Count: ', len(train_df))\n",
    "print('Null values in training set:\\n', train_df.isnull().sum())\n",
    "\n",
    "print('Test Data Count: ', len(test_df))\n",
    "print('Null values in test set:\\n', test_df.isnull().sum())\n",
    "\n",
    "print('Number of problems: ', len(problems_df))\n",
    "print('Null values in problems:\\n', problems_df.isnull().sum())\n",
    "\n",
    "print('Number of users: ', len(users_df))\n",
    "print('Null values in user data:\\n', users_df.isnull().sum())\n",
    "\n",
    "print(problems_df.head())\n",
    "print(users_df.head())\n",
    "print(train_df.head())\n",
    "print(test_df.head())\n",
    "\n",
    "df = pd.merge(train_df, problems_df, on='problem_id', how='left')\n",
    "X = pd.merge(df, users_df, on='user_id', how='left')\n",
    "\n",
    "print('Training data: ', len(X))\n",
    "users = X['user_id'].unique()\n",
    "print('Users: ', len(users)) ## returns 3529 unique users\n",
    "problems = X['problem_id'].unique()\n",
    "print('Problems: ', len(problems)) ## returns 5776 unique problems\n",
    "\n",
    "print('Test data: ', len(test_df))\n",
    "users = test_df['user_id'].unique()\n",
    "print('Users: ', len(users)) ## returns 3501 unique users\n",
    "problems = test_df['problem_id'].unique()\n",
    "print('Problems: ', len(problems)) ## returns 4716 unique problems\n",
    "\n",
    "\n"
   ]
  },
  {
   "cell_type": "markdown",
   "metadata": {},
   "source": [
    "X.head()"
   ]
  },
  {
   "cell_type": "code",
   "execution_count": 136,
   "metadata": {},
   "outputs": [
    {
     "data": {
      "text/html": [
       "<div>\n",
       "<style>\n",
       "    .dataframe thead tr:only-child th {\n",
       "        text-align: right;\n",
       "    }\n",
       "\n",
       "    .dataframe thead th {\n",
       "        text-align: left;\n",
       "    }\n",
       "\n",
       "    .dataframe tbody tr th {\n",
       "        vertical-align: top;\n",
       "    }\n",
       "</style>\n",
       "<table border=\"1\" class=\"dataframe\">\n",
       "  <thead>\n",
       "    <tr style=\"text-align: right;\">\n",
       "      <th></th>\n",
       "      <th>user_id</th>\n",
       "      <th>problem_id</th>\n",
       "      <th>attempts_range</th>\n",
       "      <th>points</th>\n",
       "      <th>submission_count</th>\n",
       "      <th>problem_solved</th>\n",
       "      <th>contribution</th>\n",
       "      <th>follower_count</th>\n",
       "      <th>last_online_time_seconds</th>\n",
       "      <th>max_rating</th>\n",
       "      <th>rating</th>\n",
       "      <th>rank</th>\n",
       "      <th>registration_time_seconds</th>\n",
       "      <th>diff_level</th>\n",
       "    </tr>\n",
       "  </thead>\n",
       "  <tbody>\n",
       "    <tr>\n",
       "      <th>count</th>\n",
       "      <td>155295.000000</td>\n",
       "      <td>155295.000000</td>\n",
       "      <td>155295.000000</td>\n",
       "      <td>126220.000000</td>\n",
       "      <td>155295.000000</td>\n",
       "      <td>155295.000000</td>\n",
       "      <td>155295.000000</td>\n",
       "      <td>155295.000000</td>\n",
       "      <td>1.552950e+05</td>\n",
       "      <td>155295.000000</td>\n",
       "      <td>155295.000000</td>\n",
       "      <td>155295.000000</td>\n",
       "      <td>1.552950e+05</td>\n",
       "      <td>155295.000000</td>\n",
       "    </tr>\n",
       "    <tr>\n",
       "      <th>mean</th>\n",
       "      <td>1778.145774</td>\n",
       "      <td>3236.588486</td>\n",
       "      <td>1.755028</td>\n",
       "      <td>993.302369</td>\n",
       "      <td>372.235680</td>\n",
       "      <td>336.078695</td>\n",
       "      <td>5.493718</td>\n",
       "      <td>61.064406</td>\n",
       "      <td>1.503666e+09</td>\n",
       "      <td>407.525560</td>\n",
       "      <td>368.623667</td>\n",
       "      <td>0.920352</td>\n",
       "      <td>1.427513e+09</td>\n",
       "      <td>1.792537</td>\n",
       "    </tr>\n",
       "    <tr>\n",
       "      <th>std</th>\n",
       "      <td>1026.136989</td>\n",
       "      <td>1918.921434</td>\n",
       "      <td>1.078450</td>\n",
       "      <td>568.115307</td>\n",
       "      <td>398.204943</td>\n",
       "      <td>377.378519</td>\n",
       "      <td>19.076626</td>\n",
       "      <td>258.997551</td>\n",
       "      <td>3.867762e+06</td>\n",
       "      <td>99.670629</td>\n",
       "      <td>112.046565</td>\n",
       "      <td>0.816435</td>\n",
       "      <td>5.033908e+07</td>\n",
       "      <td>1.879960</td>\n",
       "    </tr>\n",
       "    <tr>\n",
       "      <th>min</th>\n",
       "      <td>1.000000</td>\n",
       "      <td>1.000000</td>\n",
       "      <td>1.000000</td>\n",
       "      <td>-1.000000</td>\n",
       "      <td>1.000000</td>\n",
       "      <td>1.000000</td>\n",
       "      <td>-64.000000</td>\n",
       "      <td>0.000000</td>\n",
       "      <td>1.484239e+09</td>\n",
       "      <td>303.899000</td>\n",
       "      <td>0.000000</td>\n",
       "      <td>0.000000</td>\n",
       "      <td>1.264761e+09</td>\n",
       "      <td>-1.000000</td>\n",
       "    </tr>\n",
       "    <tr>\n",
       "      <th>25%</th>\n",
       "      <td>882.000000</td>\n",
       "      <td>1606.000000</td>\n",
       "      <td>1.000000</td>\n",
       "      <td>500.000000</td>\n",
       "      <td>118.000000</td>\n",
       "      <td>99.000000</td>\n",
       "      <td>0.000000</td>\n",
       "      <td>7.000000</td>\n",
       "      <td>1.504118e+09</td>\n",
       "      <td>323.394000</td>\n",
       "      <td>288.131000</td>\n",
       "      <td>0.000000</td>\n",
       "      <td>1.408458e+09</td>\n",
       "      <td>0.000000</td>\n",
       "    </tr>\n",
       "    <tr>\n",
       "      <th>50%</th>\n",
       "      <td>1780.000000</td>\n",
       "      <td>3334.000000</td>\n",
       "      <td>1.000000</td>\n",
       "      <td>1000.000000</td>\n",
       "      <td>237.000000</td>\n",
       "      <td>209.000000</td>\n",
       "      <td>0.000000</td>\n",
       "      <td>20.000000</td>\n",
       "      <td>1.505289e+09</td>\n",
       "      <td>383.028000</td>\n",
       "      <td>356.078000</td>\n",
       "      <td>1.000000</td>\n",
       "      <td>1.442762e+09</td>\n",
       "      <td>2.000000</td>\n",
       "    </tr>\n",
       "    <tr>\n",
       "      <th>75%</th>\n",
       "      <td>2659.000000</td>\n",
       "      <td>5008.000000</td>\n",
       "      <td>2.000000</td>\n",
       "      <td>1500.000000</td>\n",
       "      <td>480.000000</td>\n",
       "      <td>428.000000</td>\n",
       "      <td>1.000000</td>\n",
       "      <td>52.000000</td>\n",
       "      <td>1.505560e+09</td>\n",
       "      <td>468.463000</td>\n",
       "      <td>445.814000</td>\n",
       "      <td>1.000000</td>\n",
       "      <td>1.464692e+09</td>\n",
       "      <td>2.000000</td>\n",
       "    </tr>\n",
       "    <tr>\n",
       "      <th>max</th>\n",
       "      <td>3571.000000</td>\n",
       "      <td>6544.000000</td>\n",
       "      <td>6.000000</td>\n",
       "      <td>5000.000000</td>\n",
       "      <td>4570.000000</td>\n",
       "      <td>4476.000000</td>\n",
       "      <td>171.000000</td>\n",
       "      <td>10575.000000</td>\n",
       "      <td>1.505595e+09</td>\n",
       "      <td>983.085000</td>\n",
       "      <td>911.124000</td>\n",
       "      <td>3.000000</td>\n",
       "      <td>1.484236e+09</td>\n",
       "      <td>13.000000</td>\n",
       "    </tr>\n",
       "  </tbody>\n",
       "</table>\n",
       "</div>"
      ],
      "text/plain": [
       "             user_id     problem_id  attempts_range         points  \\\n",
       "count  155295.000000  155295.000000   155295.000000  126220.000000   \n",
       "mean     1778.145774    3236.588486        1.755028     993.302369   \n",
       "std      1026.136989    1918.921434        1.078450     568.115307   \n",
       "min         1.000000       1.000000        1.000000      -1.000000   \n",
       "25%       882.000000    1606.000000        1.000000     500.000000   \n",
       "50%      1780.000000    3334.000000        1.000000    1000.000000   \n",
       "75%      2659.000000    5008.000000        2.000000    1500.000000   \n",
       "max      3571.000000    6544.000000        6.000000    5000.000000   \n",
       "\n",
       "       submission_count  problem_solved   contribution  follower_count  \\\n",
       "count     155295.000000   155295.000000  155295.000000   155295.000000   \n",
       "mean         372.235680      336.078695       5.493718       61.064406   \n",
       "std          398.204943      377.378519      19.076626      258.997551   \n",
       "min            1.000000        1.000000     -64.000000        0.000000   \n",
       "25%          118.000000       99.000000       0.000000        7.000000   \n",
       "50%          237.000000      209.000000       0.000000       20.000000   \n",
       "75%          480.000000      428.000000       1.000000       52.000000   \n",
       "max         4570.000000     4476.000000     171.000000    10575.000000   \n",
       "\n",
       "       last_online_time_seconds     max_rating         rating           rank  \\\n",
       "count              1.552950e+05  155295.000000  155295.000000  155295.000000   \n",
       "mean               1.503666e+09     407.525560     368.623667       0.920352   \n",
       "std                3.867762e+06      99.670629     112.046565       0.816435   \n",
       "min                1.484239e+09     303.899000       0.000000       0.000000   \n",
       "25%                1.504118e+09     323.394000     288.131000       0.000000   \n",
       "50%                1.505289e+09     383.028000     356.078000       1.000000   \n",
       "75%                1.505560e+09     468.463000     445.814000       1.000000   \n",
       "max                1.505595e+09     983.085000     911.124000       3.000000   \n",
       "\n",
       "       registration_time_seconds     diff_level  \n",
       "count               1.552950e+05  155295.000000  \n",
       "mean                1.427513e+09       1.792537  \n",
       "std                 5.033908e+07       1.879960  \n",
       "min                 1.264761e+09      -1.000000  \n",
       "25%                 1.408458e+09       0.000000  \n",
       "50%                 1.442762e+09       2.000000  \n",
       "75%                 1.464692e+09       2.000000  \n",
       "max                 1.484236e+09      13.000000  "
      ]
     },
     "execution_count": 136,
     "metadata": {},
     "output_type": "execute_result"
    }
   ],
   "source": [
    "factor = pd.factorize(X['level_type'])\n",
    "X['diff_level'] = factor[0]\n",
    "\n",
    "factor = pd.factorize(X['rank'])\n",
    "X['rank'] = factor[0]\n",
    "factor = pd.factorize(users_df['rank'])\n",
    "users_df['rank'] = factor[0]\n",
    "\n",
    "X['user_id'] = X['user_id'].str.replace('user_', '')\n",
    "X['problem_id'] = X['problem_id'].str.replace('prob_', '')\n",
    "X['user_id'] = X['user_id'].astype('int64', copy=False)\n",
    "X['problem_id'] = X['problem_id'].astype('int64', copy=False)\n",
    "X.describe()\n",
    "\n"
   ]
  },
  {
   "cell_type": "code",
   "execution_count": 137,
   "metadata": {},
   "outputs": [
    {
     "data": {
      "text/html": [
       "<div>\n",
       "<style>\n",
       "    .dataframe thead tr:only-child th {\n",
       "        text-align: right;\n",
       "    }\n",
       "\n",
       "    .dataframe thead th {\n",
       "        text-align: left;\n",
       "    }\n",
       "\n",
       "    .dataframe tbody tr th {\n",
       "        vertical-align: top;\n",
       "    }\n",
       "</style>\n",
       "<table border=\"1\" class=\"dataframe\">\n",
       "  <thead>\n",
       "    <tr style=\"text-align: right;\">\n",
       "      <th></th>\n",
       "      <th>user_id</th>\n",
       "      <th>problem_id</th>\n",
       "      <th>submission_count</th>\n",
       "      <th>problem_solved</th>\n",
       "      <th>contribution</th>\n",
       "      <th>max_rating</th>\n",
       "      <th>rating</th>\n",
       "      <th>rank</th>\n",
       "      <th>diff_level</th>\n",
       "    </tr>\n",
       "  </thead>\n",
       "  <tbody>\n",
       "    <tr>\n",
       "      <th>0</th>\n",
       "      <td>232</td>\n",
       "      <td>6507</td>\n",
       "      <td>53</td>\n",
       "      <td>47</td>\n",
       "      <td>0</td>\n",
       "      <td>307.913</td>\n",
       "      <td>206.709</td>\n",
       "      <td>0</td>\n",
       "      <td>0</td>\n",
       "    </tr>\n",
       "    <tr>\n",
       "      <th>1</th>\n",
       "      <td>3568</td>\n",
       "      <td>2994</td>\n",
       "      <td>133</td>\n",
       "      <td>118</td>\n",
       "      <td>0</td>\n",
       "      <td>324.255</td>\n",
       "      <td>235.378</td>\n",
       "      <td>0</td>\n",
       "      <td>1</td>\n",
       "    </tr>\n",
       "    <tr>\n",
       "      <th>2</th>\n",
       "      <td>1600</td>\n",
       "      <td>5071</td>\n",
       "      <td>50</td>\n",
       "      <td>44</td>\n",
       "      <td>0</td>\n",
       "      <td>343.177</td>\n",
       "      <td>229.358</td>\n",
       "      <td>0</td>\n",
       "      <td>2</td>\n",
       "    </tr>\n",
       "    <tr>\n",
       "      <th>3</th>\n",
       "      <td>2256</td>\n",
       "      <td>703</td>\n",
       "      <td>271</td>\n",
       "      <td>233</td>\n",
       "      <td>23</td>\n",
       "      <td>436.927</td>\n",
       "      <td>399.083</td>\n",
       "      <td>1</td>\n",
       "      <td>2</td>\n",
       "    </tr>\n",
       "    <tr>\n",
       "      <th>4</th>\n",
       "      <td>2321</td>\n",
       "      <td>356</td>\n",
       "      <td>155</td>\n",
       "      <td>135</td>\n",
       "      <td>0</td>\n",
       "      <td>492.546</td>\n",
       "      <td>472.190</td>\n",
       "      <td>2</td>\n",
       "      <td>3</td>\n",
       "    </tr>\n",
       "  </tbody>\n",
       "</table>\n",
       "</div>"
      ],
      "text/plain": [
       "   user_id  problem_id  submission_count  problem_solved  contribution  \\\n",
       "0      232        6507                53              47             0   \n",
       "1     3568        2994               133             118             0   \n",
       "2     1600        5071                50              44             0   \n",
       "3     2256         703               271             233            23   \n",
       "4     2321         356               155             135             0   \n",
       "\n",
       "   max_rating   rating  rank  diff_level  \n",
       "0     307.913  206.709     0           0  \n",
       "1     324.255  235.378     0           1  \n",
       "2     343.177  229.358     0           2  \n",
       "3     436.927  399.083     1           2  \n",
       "4     492.546  472.190     2           3  "
      ]
     },
     "execution_count": 137,
     "metadata": {},
     "output_type": "execute_result"
    }
   ],
   "source": [
    "Y = pd.get_dummies(X['attempts_range'])\n",
    "\n",
    "y_xgb = X['attempts_range']\n",
    "\n",
    "X = X.drop(['points','tags','level_type','attempts_range','country','last_online_time_seconds','registration_time_seconds','follower_count'], axis=1)\n",
    "\n",
    "X.head()"
   ]
  },
  {
   "cell_type": "code",
   "execution_count": 138,
   "metadata": {},
   "outputs": [
    {
     "data": {
      "text/plain": [
       "(155295, 6)"
      ]
     },
     "execution_count": 138,
     "metadata": {},
     "output_type": "execute_result"
    }
   ],
   "source": [
    "Y.shape\n"
   ]
  },
  {
   "cell_type": "code",
   "execution_count": 139,
   "metadata": {},
   "outputs": [
    {
     "data": {
      "text/plain": [
       "(155295, 9)"
      ]
     },
     "execution_count": 139,
     "metadata": {},
     "output_type": "execute_result"
    }
   ],
   "source": [
    "X.shape"
   ]
  },
  {
   "cell_type": "code",
   "execution_count": 140,
   "metadata": {},
   "outputs": [
    {
     "data": {
      "image/png": "[encoded data removed]",
      "text/plain": [
       "<Figure size 432x288 with 1 Axes>"
      ]
     },
     "metadata": {
      "needs_background": "light"
     },
     "output_type": "display_data"
    }
   ],
   "source": [
    "fig = problems_df['level_type'].value_counts().sort_index().plot(kind=\"bar\", stacked=True, title=\"Problem Difficulty Distribution\")\n",
    "fig.set_ylabel(\"Number of questions\")\n",
    "plot.show()"
   ]
  },
  {
   "cell_type": "code",
   "execution_count": 141,
   "metadata": {},
   "outputs": [
    {
     "data": {
      "text/plain": [
       "(155295, 9)"
      ]
     },
     "execution_count": 141,
     "metadata": {},
     "output_type": "execute_result"
    }
   ],
   "source": [
    "X.shape"
   ]
  },
  {
   "cell_type": "code",
   "execution_count": 143,
   "metadata": {},
   "outputs": [
    {
     "data": {
      "text/plain": [
       "(155295, 6)"
      ]
     },
     "execution_count": 143,
     "metadata": {},
     "output_type": "execute_result"
    }
   ],
   "source": [
    "Y.shape"
   ]
  },
  {
   "cell_type": "code",
   "execution_count": 144,
   "metadata": {},
   "outputs": [],
   "source": [
    "from bokeh.io import output_file, output_notebook\n",
    "from bokeh.plotting import figure, show\n",
    "from bokeh.models import ColumnDataSource\n",
    "from bokeh.layouts import row, column, gridplot\n",
    "from bokeh.models.widgets import Tabs, Panel"
   ]
  },
  {
   "cell_type": "code",
   "execution_count": 145,
   "metadata": {},
   "outputs": [
    {
     "name": "stdout",
     "output_type": "stream",
     "text": [
      "[1042, 1017, 915, 850, 795, 421, 328, 272, 256, 212, 154, 99, 40, 10]\n"
     ]
    }
   ],
   "source": [
    "dt = problems_df['level_type'].value_counts().sort_index()\n",
    "data = pd.DataFrame(dt)\n",
    "\n",
    "data = data.values.tolist()\n",
    "d = []\n",
    "for i in data:\n",
    "    for j in i:\n",
    "        d.append(j)\n",
    "        \n",
    "print(d)\n",
    "\n",
    "\n"
   ]
  },
  {
   "cell_type": "code",
   "execution_count": 146,
   "metadata": {},
   "outputs": [],
   "source": [
    "from bokeh.io import show, output_file\n",
    "from bokeh.models import ColumnDataSource\n",
    "from bokeh.palettes import Spectral11\n",
    "from bokeh.plotting import figure\n",
    "from bokeh.transform import factor_cmap\n",
    "\n",
    "output_file(\"bar_colormapped1.html\")\n",
    "\n",
    "x = ['A','B','C','D','E','F','G','H','I','J','K','L','M','N']\n",
    "\n",
    "\n",
    "source = ColumnDataSource(data=dict(x=x, d=d))\n",
    "\n",
    "p = figure(x_range=x, plot_height=450,plot_width = 700,x_axis_label = 'Problem level type',\n",
    "        y_axis_label = 'Number of questions', toolbar_location=None, title=\"Problem Difficulty distribution\")\n",
    "p.vbar(x='x', top='d', width=0.9, source=source, legend=\"x\",\n",
    "       line_color='white', fill_color=factor_cmap('x', palette=Spectral11, factors=x))\n",
    "\n",
    "p.xgrid.grid_line_color = None\n",
    "p.y_range.start = 0\n",
    "p.y_range.end = 1500\n",
    "p.legend.orientation = \"horizontal\"\n",
    "p.legend.location = \"top_center\"\n",
    "\n",
    "#show(p)\n"
   ]
  },
  {
   "cell_type": "code",
   "execution_count": 147,
   "metadata": {},
   "outputs": [],
   "source": [
    "from bokeh.palettes import PuBu\n",
    "from bokeh.io import show, output_notebook\n",
    "from bokeh.models import ColumnDataSource, ranges, LabelSet\n",
    "from bokeh.plotting import figure\n",
    "#output_notebook()\n",
    "output_file('vbar1.html')\n",
    "\n",
    "source = ColumnDataSource(dict(x=['A','B','C','D','E','F','G','H','I','J','K','L','M','N'],y=d))\n",
    "\n",
    "x_label = \"\"\n",
    "y_label = \"Number of questions\"\n",
    "title = \"Problem Difficulty Distribution\"\n",
    "p1 = figure(plot_width=600, plot_height=300, tools=\"save\",\n",
    "        x_axis_label = x_label,\n",
    "        y_axis_label = y_label,\n",
    "        title=title,\n",
    "        x_minor_ticks=2,\n",
    "        x_range = source.data[\"x\"],\n",
    "        y_range= ranges.Range1d(start=0,end=1500))\n",
    "\n",
    "\n",
    "labels = LabelSet(x='x', y='y', text='y', level='glyph',\n",
    "        x_offset=-13.5, y_offset=0, source=source, render_mode='canvas')\n",
    "\n",
    "p1.vbar(source=source,x='x',top='y',bottom=0,width=0.3,color=PuBu[7][2])\n",
    "\n",
    "p1.add_layout(labels)\n",
    "#show(p1)"
   ]
  },
  {
   "cell_type": "code",
   "execution_count": 148,
   "metadata": {},
   "outputs": [],
   "source": [
    "import numpy as np\n",
    "from bokeh.models import BoxSelectTool, BoxZoomTool, LassoSelectTool\n",
    "from bokeh.plotting import figure, output_file, show\n",
    "output_file(\"styling_tool_overlays.html\")\n",
    "x = users_df['submission_count']\n",
    "yr = users_df['rank']\n",
    "# Basic plot setup\n",
    "p2 = figure(plot_width=400, plot_height=400, title='Submission based Rank',\n",
    "              tools=\"box_select,box_zoom,lasso_select,reset\",  x_axis_label = 'Submission Count',\n",
    "        y_axis_label = 'Rank')\n",
    "p2.circle(x, yr, size=5)\n",
    "select_overlay = p2.select_one(BoxSelectTool).overlay\n",
    "select_overlay.fill_color = \"firebrick\"\n",
    "select_overlay.line_color = None\n",
    "zoom_overlay = p2.select_one(BoxZoomTool).overlay\n",
    "zoom_overlay.line_color = \"olive\"\n",
    "zoom_overlay.line_width = 8\n",
    "zoom_overlay.line_dash = \"solid\"\n",
    "zoom_overlay.fill_color = None\n",
    "p2.select_one(LassoSelectTool).overlay.line_dash = [10, 10]\n",
    "#show(p2)"
   ]
  },
  {
   "cell_type": "code",
   "execution_count": 150,
   "metadata": {},
   "outputs": [
    {
     "data": {
      "text/plain": [
       "(155295, 6)"
      ]
     },
     "execution_count": 150,
     "metadata": {},
     "output_type": "execute_result"
    }
   ],
   "source": [
    "Y.shape"
   ]
  },
  {
   "cell_type": "code",
   "execution_count": 151,
   "metadata": {},
   "outputs": [
    {
     "ename": "AttributeError",
     "evalue": "module 'matplotlib.pyplot' has no attribute 'select_one'",
     "output_type": "error",
     "traceback": [
      "\u001b[1;31m---------------------------------------------------------------------------\u001b[0m",
      "\u001b[1;31mAttributeError\u001b[0m                            Traceback (most recent call last)",
      "\u001b[1;32m<ipython-input-151-f53461e41ce4>\u001b[0m in \u001b[0;36m<module>\u001b[1;34m\u001b[0m\n\u001b[0;32m     10\u001b[0m         y_axis_label = 'Rating')\n\u001b[0;32m     11\u001b[0m \u001b[0mp3\u001b[0m\u001b[1;33m.\u001b[0m\u001b[0mcircle\u001b[0m\u001b[1;33m(\u001b[0m\u001b[0mx\u001b[0m\u001b[1;33m,\u001b[0m \u001b[0my\u001b[0m\u001b[1;33m,\u001b[0m \u001b[0msize\u001b[0m\u001b[1;33m=\u001b[0m\u001b[1;36m5\u001b[0m\u001b[1;33m)\u001b[0m\u001b[1;33m\u001b[0m\u001b[0m\n\u001b[1;32m---> 12\u001b[1;33m \u001b[0mselect_overlay\u001b[0m \u001b[1;33m=\u001b[0m \u001b[0mplot\u001b[0m\u001b[1;33m.\u001b[0m\u001b[0mselect_one\u001b[0m\u001b[1;33m(\u001b[0m\u001b[0mBoxSelectTool\u001b[0m\u001b[1;33m)\u001b[0m\u001b[1;33m.\u001b[0m\u001b[0moverlay\u001b[0m\u001b[1;33m\u001b[0m\u001b[0m\n\u001b[0m\u001b[0;32m     13\u001b[0m \u001b[0mselect_overlay\u001b[0m\u001b[1;33m.\u001b[0m\u001b[0mfill_color\u001b[0m \u001b[1;33m=\u001b[0m \u001b[1;34m\"firebrick\"\u001b[0m\u001b[1;33m\u001b[0m\u001b[0m\n\u001b[0;32m     14\u001b[0m \u001b[0mselect_overlay\u001b[0m\u001b[1;33m.\u001b[0m\u001b[0mline_color\u001b[0m \u001b[1;33m=\u001b[0m \u001b[1;32mNone\u001b[0m\u001b[1;33m\u001b[0m\u001b[0m\n",
      "\u001b[1;31mAttributeError\u001b[0m: module 'matplotlib.pyplot' has no attribute 'select_one'"
     ]
    }
   ],
   "source": [
    "import numpy as np\n",
    "from bokeh.models import BoxSelectTool, BoxZoomTool, LassoSelectTool\n",
    "from bokeh.plotting import figure, output_file, show\n",
    "output_file(\"styling_tool_overlays.html\")\n",
    "x = users_df['submission_count']\n",
    "y = users_df['rating']\n",
    "# Basic plot setup\n",
    "p3 = figure(plot_width=400, plot_height=400, title='Rating Distribution',\n",
    "              tools=\"box_select,box_zoom,lasso_select,reset\", x_axis_label = 'Submission Count',\n",
    "        y_axis_label = 'Rating')\n",
    "p3.circle(x, y, size=5)\n",
    "select_overlay = plot.select_one(BoxSelectTool).overlay\n",
    "select_overlay.fill_color = \"firebrick\"\n",
    "select_overlay.line_color = None\n",
    "zoom_overlay = plot.select_one(BoxZoomTool).overlay\n",
    "zoom_overlay.line_color = \"olive\"\n",
    "zoom_overlay.line_width = 8\n",
    "zoom_overlay.line_dash = \"solid\"\n",
    "zoom_overlay.fill_color = None\n",
    "p3.select_one(LassoSelectTool).overlay.line_dash = [10, 10]\n",
    "#show(p3)"
   ]
  },
  {
   "cell_type": "code",
   "execution_count": 152,
   "metadata": {},
   "outputs": [],
   "source": [
    "from bokeh.plotting import figure, output_file, show\n",
    "from bokeh.models import HoverTool\n",
    "output_file(\"styling_hover.html\")\n",
    "x = users_df['rating']\n",
    "yp = users_df['problem_solved']\n",
    "# Basic plot setup\n",
    "p4 = figure(plot_width=600, plot_height=300, x_axis_type=\"datetime\", tools=\"\",\n",
    "              toolbar_location=None, title='Problem solved Distribution', x_axis_label = 'Rating',\n",
    "        y_axis_label = 'Problem Solved')\n",
    "cr = p4.circle(x, yp, size=10,\n",
    "                fill_color=\"purple\", hover_fill_color=\"firebrick\",\n",
    "                fill_alpha=0.05, hover_alpha=0.3,\n",
    "                line_color=None, hover_line_color=\"white\")\n",
    "p4.add_tools(HoverTool(tooltips=None, renderers=[cr], mode='hline'))\n",
    "#show(p4)"
   ]
  },
  {
   "cell_type": "code",
   "execution_count": 153,
   "metadata": {},
   "outputs": [
    {
     "ename": "NameError",
     "evalue": "name 'url1' is not defined",
     "output_type": "error",
     "traceback": [
      "\u001b[1;31m---------------------------------------------------------------------------\u001b[0m",
      "\u001b[1;31mNameError\u001b[0m                                 Traceback (most recent call last)",
      "\u001b[1;32m<ipython-input-153-d432dd959559>\u001b[0m in \u001b[0;36m<module>\u001b[1;34m\u001b[0m\n\u001b[0;32m     20\u001b[0m     \u001b[0mtitle\u001b[0m\u001b[1;33m=\u001b[0m\u001b[1;32mNone\u001b[0m\u001b[1;33m,\u001b[0m \u001b[0mx_range\u001b[0m\u001b[1;33m=\u001b[0m\u001b[0mxdr\u001b[0m\u001b[1;33m,\u001b[0m \u001b[0my_range\u001b[0m\u001b[1;33m=\u001b[0m\u001b[0mydr\u001b[0m\u001b[1;33m,\u001b[0m \u001b[0mplot_width\u001b[0m\u001b[1;33m=\u001b[0m\u001b[1;36m1000\u001b[0m\u001b[1;33m,\u001b[0m \u001b[0mplot_height\u001b[0m\u001b[1;33m=\u001b[0m\u001b[1;36m1000\u001b[0m\u001b[1;33m,\u001b[0m\u001b[1;33m\u001b[0m\u001b[0m\n\u001b[0;32m     21\u001b[0m     min_border=0, toolbar_location=None)\n\u001b[1;32m---> 22\u001b[1;33m \u001b[0mimage1\u001b[0m \u001b[1;33m=\u001b[0m \u001b[0mImageURL\u001b[0m\u001b[1;33m(\u001b[0m\u001b[0murl\u001b[0m\u001b[1;33m=\u001b[0m\u001b[0mdict\u001b[0m\u001b[1;33m(\u001b[0m\u001b[0mvalue\u001b[0m\u001b[1;33m=\u001b[0m\u001b[0murl1\u001b[0m\u001b[1;33m)\u001b[0m\u001b[1;33m,\u001b[0m \u001b[0mx\u001b[0m\u001b[1;33m=\u001b[0m\u001b[1;36m0\u001b[0m\u001b[1;33m,\u001b[0m \u001b[0my\u001b[0m\u001b[1;33m=\u001b[0m\u001b[1;36m200\u001b[0m\u001b[1;33m,\u001b[0m \u001b[0manchor\u001b[0m\u001b[1;33m=\u001b[0m\u001b[1;34m\"top_left\"\u001b[0m\u001b[1;33m)\u001b[0m\u001b[1;33m\u001b[0m\u001b[0m\n\u001b[0m\u001b[0;32m     23\u001b[0m \u001b[0mplot\u001b[0m\u001b[1;33m.\u001b[0m\u001b[0madd_glyph\u001b[0m\u001b[1;33m(\u001b[0m\u001b[0msource\u001b[0m\u001b[1;33m,\u001b[0m \u001b[0mimage1\u001b[0m\u001b[1;33m)\u001b[0m\u001b[1;33m\u001b[0m\u001b[0m\n\u001b[0;32m     24\u001b[0m \u001b[0mimage3\u001b[0m \u001b[1;33m=\u001b[0m \u001b[0mImageURL\u001b[0m\u001b[1;33m(\u001b[0m\u001b[0murl\u001b[0m\u001b[1;33m=\u001b[0m\u001b[0mdict\u001b[0m\u001b[1;33m(\u001b[0m\u001b[0mvalue\u001b[0m\u001b[1;33m=\u001b[0m\u001b[0murl\u001b[0m\u001b[1;33m)\u001b[0m\u001b[1;33m,\u001b[0m \u001b[0mx\u001b[0m\u001b[1;33m=\u001b[0m\u001b[1;36m200\u001b[0m\u001b[1;33m,\u001b[0m \u001b[0my\u001b[0m\u001b[1;33m=\u001b[0m\u001b[1;33m-\u001b[0m\u001b[1;36m100\u001b[0m\u001b[1;33m,\u001b[0m \u001b[0manchor\u001b[0m\u001b[1;33m=\u001b[0m\u001b[1;34m\"bottom_right\"\u001b[0m\u001b[1;33m)\u001b[0m\u001b[1;33m\u001b[0m\u001b[0m\n",
      "\u001b[1;31mNameError\u001b[0m: name 'url1' is not defined"
     ]
    }
   ],
   "source": [
    "import numpy as np\n",
    "from bokeh.models import ColumnDataSource, Range1d, Plot, LinearAxis, Grid\n",
    "from bokeh.models.glyphs import ImageURL\n",
    "from bokeh.io import curdoc, show\n",
    "url = \"image.jpg\"\n",
    "\n",
    "N = 5\n",
    "source = ColumnDataSource(dict(\n",
    "    url = [url]*N,\n",
    "    x1  = np.linspace(  0, 150, N),\n",
    "    y1  = np.linspace(  0, 150, N),\n",
    "    w1  = np.linspace( 10,  50, N),\n",
    "    h1  = np.linspace( 10,  50, N),\n",
    "    x2  = np.linspace(-50, 150, N),\n",
    "    y2  = np.linspace(  0, 200, N),\n",
    "))\n",
    "xdr = Range1d(start=-100, end=200)\n",
    "ydr = Range1d(start=-100, end=200)\n",
    "plot = Plot(\n",
    "    title=None, x_range=xdr, y_range=ydr, plot_width=1000, plot_height=1000,\n",
    "    min_border=0, toolbar_location=None)\n",
    "image1 = ImageURL(url=dict(value=url1), x=0, y=200, anchor=\"top_left\")\n",
    "plot.add_glyph(source, image1)\n",
    "image3 = ImageURL(url=dict(value=url), x=200, y=-100, anchor=\"bottom_right\")\n",
    "plot.add_glyph(source, image3)\n",
    "\n",
    "show(plot)"
   ]
  },
  {
   "cell_type": "code",
   "execution_count": null,
   "metadata": {},
   "outputs": [],
   "source": []
  },
  {
   "cell_type": "code",
   "execution_count": 154,
   "metadata": {},
   "outputs": [],
   "source": [
    "from bokeh.io import output_file\n",
    "from bokeh.models.widgets import Tabs, Panel\n",
    "# Output to file\n",
    "output_file('Graphs.html',\n",
    "            title='Project result')\n",
    "# Create two panels, one for each conference'\n",
    "#g0 = Panel(child=p0, title='Problem Statement')\n",
    "\n",
    "g = Panel(child=p, title='Problem Difficulty Distribution 1')\n",
    "g1 = Panel(child=p1, title='Problem Difficulty Distribution 2')\n",
    "g2= Panel(child=p2, title='Submission based Rank')\n",
    "g3 = Panel(child=p3, title='Rating Distribution')\n",
    "g4 = Panel(child=p4, title='Problem Solved Distriution')\n",
    "# Assign the panels to Tabs\n",
    "tabs = Tabs(tabs=[g,g1,g2,g3,g4])\n",
    "# Show the tabbed layout\n",
    "show(tabs)\n"
   ]
  },
  {
   "cell_type": "code",
   "execution_count": null,
   "metadata": {},
   "outputs": [],
   "source": []
  },
  {
   "cell_type": "code",
   "execution_count": 155,
   "metadata": {},
   "outputs": [
    {
     "data": {
      "image/png": "[encoded data removed]",
      "text/plain": [
       "<Figure size 720x720 with 20 Axes>"
      ]
     },
     "metadata": {
      "needs_background": "light"
     },
     "output_type": "display_data"
    }
   ],
   "source": [
    "ax = sns.pairplot(users_df[[\"submission_count\", \"problem_solved\", \"rating\", \"rank\"]])"
   ]
  },
  {
   "cell_type": "code",
   "execution_count": 156,
   "metadata": {},
   "outputs": [],
   "source": [
    "import numpy as np\n",
    "import pandas as pd\n",
    "\n",
    "from matplotlib import pyplot as plot\n",
    "from matplotlib import rcParams\n",
    "rcParams['font.family'] = 'serif'\n",
    "from sklearn.cluster import KMeans\n",
    "from sklearn.model_selection import train_test_split\n",
    "from sklearn.preprocessing import StandardScaler\n",
    "from sklearn.ensemble import RandomForestClassifier\n",
    "from sklearn.metrics import confusion_matrix\n",
    "import seaborn as sns\n",
    "import xgboost as xgb\n",
    "from sklearn.metrics import mean_squared_error\n",
    "from sklearn.metrics import accuracy_score"
   ]
  },
  {
   "cell_type": "code",
   "execution_count": 157,
   "metadata": {},
   "outputs": [
    {
     "data": {
      "image/png": "[encoded data removed]",
      "text/plain": [
       "<Figure size 432x288 with 2 Axes>"
      ]
     },
     "metadata": {
      "needs_background": "light"
     },
     "output_type": "display_data"
    }
   ],
   "source": [
    "var_Corr = X[[\"submission_count\", \"problem_solved\", \"rating\", \"rank\"]].corr()\n",
    "fig2 = plot.figure()\n",
    "fig2 = sns.heatmap(var_Corr, xticklabels=var_Corr.columns, yticklabels=var_Corr.columns, annot=True)\n",
    "plot.show()"
   ]
  },
  {
   "cell_type": "code",
   "execution_count": 126,
   "metadata": {},
   "outputs": [
    {
     "data": {
      "text/plain": [
       "(155295, 9)"
      ]
     },
     "execution_count": 126,
     "metadata": {},
     "output_type": "execute_result"
    }
   ],
   "source": [
    "X.shape"
   ]
  },
  {
   "cell_type": "code",
   "execution_count": 159,
   "metadata": {},
   "outputs": [
    {
     "data": {
      "text/plain": [
       "(155295, 6)"
      ]
     },
     "execution_count": 159,
     "metadata": {},
     "output_type": "execute_result"
    }
   ],
   "source": [
    "Y.shape"
   ]
  },
  {
   "cell_type": "code",
   "execution_count": 161,
   "metadata": {},
   "outputs": [
    {
     "name": "stdout",
     "output_type": "stream",
     "text": [
      "Predicted Attempt Range      1     2    3   4   5   6\n",
      "Actual Attempt Range                                 \n",
      "1                        17293  3069  249  50  18  32\n",
      "2                         9471  2135  192  40  14  17\n",
      "3                         2742   681   62  20   7   5\n",
      "4                         1089   233   33   5   1   5\n",
      "5                          504   120   24   5   1   2\n",
      "6                          560   120   12   6   2   5\n",
      "Accuracy: 37.45%\n",
      "RMSE: 0.400263\n"
     ]
    }
   ],
   "source": [
    "X_train, X_test, y_train, y_test = train_test_split( X, Y, test_size=0.25, random_state=1)\n",
    "\n",
    "# Feature Scaling\n",
    "scaler = StandardScaler()\n",
    "X_train = scaler.fit_transform(X_train)\n",
    "X_test = scaler.fit_transform(X_test)\n",
    "\n",
    "# Fitting Random Forest Classification to the Training set\n",
    "classifier = RandomForestClassifier(n_estimators = 100, criterion = 'entropy', random_state = 84)\n",
    "classifier.fit(X_train, y_train)\n",
    "\n",
    "# Predicting the Test set results\n",
    "y_pred = classifier.predict(X_test)\n",
    "\n",
    "ypred_df = pd.DataFrame(y_pred)\n",
    "ypred_df.index = y_test.index\n",
    "ypred_df.columns=['1','2','3','4','5','6']\n",
    "\n",
    "predicted_attempt = ypred_df.idxmax(axis=1)\n",
    "given_attempt = y_test.idxmax(axis=1)\n",
    "\n",
    "# Making the Confusion Matrix\n",
    "print(pd.crosstab(given_attempt, predicted_attempt, rownames=['Actual Attempt Range'], colnames=['Predicted Attempt Range']))\n",
    "\n",
    "accuracy = accuracy_score(y_test, ypred_df)\n",
    "print(\"Accuracy: %.2f%%\" % (accuracy * 100.0))\n",
    "\n",
    "rmse = np.sqrt(mean_squared_error(y_test, ypred_df))\n",
    "print(\"RMSE: %f\" % (rmse))\n"
   ]
  },
  {
   "cell_type": "code",
   "execution_count": 162,
   "metadata": {},
   "outputs": [
    {
     "name": "stdout",
     "output_type": "stream",
     "text": [
      "[0]\tvalidation_0-mlogloss:1.70032\tvalidation_1-mlogloss:1.70554\n",
      "[1]\tvalidation_0-mlogloss:1.62488\tvalidation_1-mlogloss:1.63471\n",
      "[2]\tvalidation_0-mlogloss:1.56126\tvalidation_1-mlogloss:1.57533\n",
      "[3]\tvalidation_0-mlogloss:1.50607\tvalidation_1-mlogloss:1.52446\n",
      "[4]\tvalidation_0-mlogloss:1.45842\tvalidation_1-mlogloss:1.48035\n",
      "[5]\tvalidation_0-mlogloss:1.41659\tvalidation_1-mlogloss:1.44225\n",
      "[6]\tvalidation_0-mlogloss:1.37945\tvalidation_1-mlogloss:1.40881\n",
      "[7]\tvalidation_0-mlogloss:1.34647\tvalidation_1-mlogloss:1.37915\n",
      "[8]\tvalidation_0-mlogloss:1.31707\tvalidation_1-mlogloss:1.35309\n",
      "[9]\tvalidation_0-mlogloss:1.29059\tvalidation_1-mlogloss:1.33002\n",
      "[10]\tvalidation_0-mlogloss:1.26665\tvalidation_1-mlogloss:1.30937\n",
      "[11]\tvalidation_0-mlogloss:1.2451\tvalidation_1-mlogloss:1.29108\n",
      "[12]\tvalidation_0-mlogloss:1.22536\tvalidation_1-mlogloss:1.27451\n",
      "[13]\tvalidation_0-mlogloss:1.20735\tvalidation_1-mlogloss:1.25966\n",
      "[14]\tvalidation_0-mlogloss:1.19087\tvalidation_1-mlogloss:1.24623\n",
      "[15]\tvalidation_0-mlogloss:1.17581\tvalidation_1-mlogloss:1.23421\n",
      "[16]\tvalidation_0-mlogloss:1.162\tvalidation_1-mlogloss:1.22335\n",
      "[17]\tvalidation_0-mlogloss:1.1496\tvalidation_1-mlogloss:1.21368\n",
      "[18]\tvalidation_0-mlogloss:1.13789\tvalidation_1-mlogloss:1.2047\n",
      "[19]\tvalidation_0-mlogloss:1.12695\tvalidation_1-mlogloss:1.19647\n",
      "[20]\tvalidation_0-mlogloss:1.11684\tvalidation_1-mlogloss:1.18916\n",
      "[21]\tvalidation_0-mlogloss:1.10762\tvalidation_1-mlogloss:1.18273\n",
      "[22]\tvalidation_0-mlogloss:1.09845\tvalidation_1-mlogloss:1.1765\n",
      "[23]\tvalidation_0-mlogloss:1.09008\tvalidation_1-mlogloss:1.17095\n",
      "[24]\tvalidation_0-mlogloss:1.08239\tvalidation_1-mlogloss:1.16604\n",
      "[25]\tvalidation_0-mlogloss:1.07532\tvalidation_1-mlogloss:1.1615\n",
      "[26]\tvalidation_0-mlogloss:1.06886\tvalidation_1-mlogloss:1.15741\n",
      "[27]\tvalidation_0-mlogloss:1.06201\tvalidation_1-mlogloss:1.15345\n",
      "[28]\tvalidation_0-mlogloss:1.05617\tvalidation_1-mlogloss:1.14979\n",
      "[29]\tvalidation_0-mlogloss:1.05007\tvalidation_1-mlogloss:1.14656\n",
      "[30]\tvalidation_0-mlogloss:1.04461\tvalidation_1-mlogloss:1.1437\n",
      "[31]\tvalidation_0-mlogloss:1.0394\tvalidation_1-mlogloss:1.14089\n",
      "[32]\tvalidation_0-mlogloss:1.03473\tvalidation_1-mlogloss:1.13873\n",
      "[33]\tvalidation_0-mlogloss:1.02999\tvalidation_1-mlogloss:1.13637\n",
      "[34]\tvalidation_0-mlogloss:1.02493\tvalidation_1-mlogloss:1.13421\n",
      "[35]\tvalidation_0-mlogloss:1.02045\tvalidation_1-mlogloss:1.13224\n",
      "[36]\tvalidation_0-mlogloss:1.0158\tvalidation_1-mlogloss:1.1302\n",
      "[37]\tvalidation_0-mlogloss:1.01174\tvalidation_1-mlogloss:1.12864\n",
      "[38]\tvalidation_0-mlogloss:1.00825\tvalidation_1-mlogloss:1.1272\n",
      "[39]\tvalidation_0-mlogloss:1.00435\tvalidation_1-mlogloss:1.12573\n",
      "[40]\tvalidation_0-mlogloss:1.0009\tvalidation_1-mlogloss:1.12458\n",
      "[41]\tvalidation_0-mlogloss:0.997074\tvalidation_1-mlogloss:1.12332\n",
      "[42]\tvalidation_0-mlogloss:0.993639\tvalidation_1-mlogloss:1.12228\n",
      "[43]\tvalidation_0-mlogloss:0.990409\tvalidation_1-mlogloss:1.1213\n",
      "[44]\tvalidation_0-mlogloss:0.987623\tvalidation_1-mlogloss:1.1205\n",
      "[45]\tvalidation_0-mlogloss:0.984182\tvalidation_1-mlogloss:1.11959\n",
      "[46]\tvalidation_0-mlogloss:0.9813\tvalidation_1-mlogloss:1.11888\n",
      "[47]\tvalidation_0-mlogloss:0.978079\tvalidation_1-mlogloss:1.11785\n",
      "[48]\tvalidation_0-mlogloss:0.975238\tvalidation_1-mlogloss:1.1173\n",
      "[49]\tvalidation_0-mlogloss:0.972956\tvalidation_1-mlogloss:1.1168\n",
      "[50]\tvalidation_0-mlogloss:0.97031\tvalidation_1-mlogloss:1.11607\n",
      "[51]\tvalidation_0-mlogloss:0.967832\tvalidation_1-mlogloss:1.11579\n",
      "[52]\tvalidation_0-mlogloss:0.964924\tvalidation_1-mlogloss:1.11533\n",
      "[53]\tvalidation_0-mlogloss:0.96251\tvalidation_1-mlogloss:1.11494\n",
      "[54]\tvalidation_0-mlogloss:0.960312\tvalidation_1-mlogloss:1.11459\n",
      "[55]\tvalidation_0-mlogloss:0.958023\tvalidation_1-mlogloss:1.11425\n",
      "[56]\tvalidation_0-mlogloss:0.956048\tvalidation_1-mlogloss:1.11389\n",
      "[57]\tvalidation_0-mlogloss:0.953882\tvalidation_1-mlogloss:1.11367\n",
      "[58]\tvalidation_0-mlogloss:0.951937\tvalidation_1-mlogloss:1.11329\n",
      "[59]\tvalidation_0-mlogloss:0.949961\tvalidation_1-mlogloss:1.11316\n",
      "[60]\tvalidation_0-mlogloss:0.947933\tvalidation_1-mlogloss:1.11307\n",
      "[61]\tvalidation_0-mlogloss:0.946207\tvalidation_1-mlogloss:1.11288\n",
      "[62]\tvalidation_0-mlogloss:0.944652\tvalidation_1-mlogloss:1.11269\n",
      "[63]\tvalidation_0-mlogloss:0.943092\tvalidation_1-mlogloss:1.11253\n",
      "[64]\tvalidation_0-mlogloss:0.941711\tvalidation_1-mlogloss:1.11246\n",
      "[65]\tvalidation_0-mlogloss:0.939867\tvalidation_1-mlogloss:1.11236\n",
      "[66]\tvalidation_0-mlogloss:0.937847\tvalidation_1-mlogloss:1.11197\n",
      "[67]\tvalidation_0-mlogloss:0.936228\tvalidation_1-mlogloss:1.1119\n",
      "[68]\tvalidation_0-mlogloss:0.934517\tvalidation_1-mlogloss:1.11178\n",
      "[69]\tvalidation_0-mlogloss:0.932745\tvalidation_1-mlogloss:1.11166\n",
      "[70]\tvalidation_0-mlogloss:0.930886\tvalidation_1-mlogloss:1.11121\n",
      "[71]\tvalidation_0-mlogloss:0.92904\tvalidation_1-mlogloss:1.11121\n",
      "[72]\tvalidation_0-mlogloss:0.927793\tvalidation_1-mlogloss:1.11111\n",
      "[73]\tvalidation_0-mlogloss:0.926548\tvalidation_1-mlogloss:1.11109\n",
      "[74]\tvalidation_0-mlogloss:0.925164\tvalidation_1-mlogloss:1.11108\n",
      "[75]\tvalidation_0-mlogloss:0.923662\tvalidation_1-mlogloss:1.111\n",
      "[76]\tvalidation_0-mlogloss:0.922359\tvalidation_1-mlogloss:1.11097\n",
      "[77]\tvalidation_0-mlogloss:0.921042\tvalidation_1-mlogloss:1.11088\n",
      "[78]\tvalidation_0-mlogloss:0.919681\tvalidation_1-mlogloss:1.11088\n",
      "[79]\tvalidation_0-mlogloss:0.918732\tvalidation_1-mlogloss:1.11086\n",
      "[80]\tvalidation_0-mlogloss:0.917628\tvalidation_1-mlogloss:1.11082\n",
      "[81]\tvalidation_0-mlogloss:0.916572\tvalidation_1-mlogloss:1.11082\n",
      "[82]\tvalidation_0-mlogloss:0.915233\tvalidation_1-mlogloss:1.11071\n",
      "[83]\tvalidation_0-mlogloss:0.914193\tvalidation_1-mlogloss:1.11067\n",
      "[84]\tvalidation_0-mlogloss:0.912835\tvalidation_1-mlogloss:1.11061\n",
      "[85]\tvalidation_0-mlogloss:0.911172\tvalidation_1-mlogloss:1.11022\n",
      "[86]\tvalidation_0-mlogloss:0.909943\tvalidation_1-mlogloss:1.1103\n",
      "[87]\tvalidation_0-mlogloss:0.908634\tvalidation_1-mlogloss:1.11034\n",
      "[88]\tvalidation_0-mlogloss:0.90779\tvalidation_1-mlogloss:1.11032\n",
      "[89]\tvalidation_0-mlogloss:0.906546\tvalidation_1-mlogloss:1.1104\n",
      "[90]\tvalidation_0-mlogloss:0.905694\tvalidation_1-mlogloss:1.1104\n",
      "[91]\tvalidation_0-mlogloss:0.904077\tvalidation_1-mlogloss:1.11015\n",
      "[92]\tvalidation_0-mlogloss:0.903047\tvalidation_1-mlogloss:1.11016\n",
      "[93]\tvalidation_0-mlogloss:0.901492\tvalidation_1-mlogloss:1.11017\n",
      "[94]\tvalidation_0-mlogloss:0.900156\tvalidation_1-mlogloss:1.11014\n",
      "[95]\tvalidation_0-mlogloss:0.899103\tvalidation_1-mlogloss:1.11014\n",
      "[96]\tvalidation_0-mlogloss:0.897924\tvalidation_1-mlogloss:1.11021\n",
      "[97]\tvalidation_0-mlogloss:0.896971\tvalidation_1-mlogloss:1.11013\n",
      "[98]\tvalidation_0-mlogloss:0.895368\tvalidation_1-mlogloss:1.10986\n",
      "[99]\tvalidation_0-mlogloss:0.894509\tvalidation_1-mlogloss:1.10995\n",
      "XGBClassifier(base_score=0.5, booster='gbtree', colsample_bylevel=1,\n",
      "       colsample_bynode=1, colsample_bytree=1, gamma=0, learning_rate=0.1,\n",
      "       max_delta_step=0, max_depth='10', min_child_weight=1, missing=None,\n",
      "       n_estimators=100, n_jobs=1, nthread=None,\n",
      "       objective='multi:softprob', random_state=0, reg_alpha=0,\n",
      "       reg_lambda=1, scale_pos_weight=1, seed=None, silent=None,\n",
      "       subsample=1, verbosity=1)\n",
      "Predicted Attempt Range      1     2   3   4  5   6\n",
      "Actual Attempt Range                               \n",
      "1                        18736  1918  32  12  2  11\n",
      "2                         9354  2452  35  13  1  14\n",
      "3                         2457  1028  16   7  1   8\n",
      "4                          865   478  10   4  2   7\n",
      "5                          379   259  11   2  0   5\n",
      "6                          406   275   5   0  1  18\n",
      "Accuracy: 54.67%\n",
      "RMSE: 0.388706\n"
     ]
    }
   ],
   "source": [
    "# attempting xgboost algorithm\n",
    "\n",
    "X_train, X_test, y_train, y_test = train_test_split( X, y_xgb, test_size=0.25, random_state=1)\n",
    "\n",
    "eval_set = [(X_train,y_train),(X_test,y_test)]\n",
    "xgb_class = xgb.XGBClassifier(max_depth='10',n_estimators=100, gamma=0, objective='multi:softmax')\n",
    "xgb_class.fit(X_train,y_train,eval_set=eval_set,verbose=1,eval_metric=['mlogloss'])\n",
    "print(xgb_class)\n",
    "\n",
    "preds = xgb_class.predict(X_test)\n",
    "# Making the Confusion Matrix\n",
    "print(pd.crosstab(given_attempt, preds, rownames=['Actual Attempt Range'], colnames=['Predicted Attempt Range']))\n",
    "\n",
    "y1 = pd.get_dummies(y_test)\n",
    "y2 = pd.get_dummies(preds)\n",
    "\n",
    "accuracy = accuracy_score(y1, y2)\n",
    "print(\"Accuracy: %.2f%%\" % (accuracy * 100.0))\n",
    "\n",
    "rmse = np.sqrt(mean_squared_error(y1, y2))\n",
    "print(\"RMSE: %f\" % (rmse))"
   ]
  },
  {
   "cell_type": "code",
   "execution_count": null,
   "metadata": {},
   "outputs": [],
   "source": []
  },
  {
   "cell_type": "code",
   "execution_count": null,
   "metadata": {},
   "outputs": [],
   "source": []
  },
  {
   "cell_type": "code",
   "execution_count": null,
   "metadata": {},
   "outputs": [],
   "source": []
  }
 ],
 "metadata": {
  "kernelspec": {
   "display_name": "Python 3",
   "language": "python",
   "name": "python3"
  },
  "language_info": {
   "codemirror_mode": {
    "name": "ipython",
    "version": 3
   },
   "file_extension": ".py",
   "mimetype": "text/x-python",
   "name": "python",
   "nbconvert_exporter": "python",
   "pygments_lexer": "ipython3",
   "version": "3.6.3"
  }
 },
 "nbformat": 4,
 "nbformat_minor": 2
}
